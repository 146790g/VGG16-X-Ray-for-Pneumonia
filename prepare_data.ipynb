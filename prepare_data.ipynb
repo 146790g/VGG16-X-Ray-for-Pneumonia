{
 "cells": [
  {
   "cell_type": "code",
   "execution_count": 4,
   "metadata": {},
   "outputs": [
    {
     "ename": "FileExistsError",
     "evalue": "[WinError 183] 既に存在するファイルを作成することはできません。: './data/train/dogs'",
     "output_type": "error",
     "traceback": [
      "\u001b[1;31m---------------------------------------------------------------------------\u001b[0m",
      "\u001b[1;31mFileExistsError\u001b[0m                           Traceback (most recent call last)",
      "\u001b[1;32m<ipython-input-4-51f128fed372>\u001b[0m in \u001b[0;36m<module>\u001b[1;34m()\u001b[0m\n\u001b[0;32m     13\u001b[0m \u001b[0mvalid_dir\u001b[0m \u001b[1;33m=\u001b[0m \u001b[1;34m\"./data/validation\"\u001b[0m     \u001b[1;31m# テストデータの保存先\u001b[0m\u001b[1;33m\u001b[0m\u001b[0m\n\u001b[0;32m     14\u001b[0m \u001b[1;33m\u001b[0m\u001b[0m\n\u001b[1;32m---> 15\u001b[1;33m \u001b[0mos\u001b[0m\u001b[1;33m.\u001b[0m\u001b[0mmakedirs\u001b[0m\u001b[1;33m(\u001b[0m\u001b[1;34m\"%s/dogs\"\u001b[0m \u001b[1;33m%\u001b[0m \u001b[0mtrain_dir\u001b[0m\u001b[1;33m)\u001b[0m  \u001b[1;31m# train_dir内にdogsフォルダーを作成\u001b[0m\u001b[1;33m\u001b[0m\u001b[0m\n\u001b[0m\u001b[0;32m     16\u001b[0m \u001b[0mos\u001b[0m\u001b[1;33m.\u001b[0m\u001b[0mmakedirs\u001b[0m\u001b[1;33m(\u001b[0m\u001b[1;34m\"%s/cats\"\u001b[0m \u001b[1;33m%\u001b[0m \u001b[0mtrain_dir\u001b[0m\u001b[1;33m)\u001b[0m  \u001b[1;31m# train_dir内にcatsフォルダーを作成\u001b[0m\u001b[1;33m\u001b[0m\u001b[0m\n\u001b[0;32m     17\u001b[0m \u001b[0mos\u001b[0m\u001b[1;33m.\u001b[0m\u001b[0mmakedirs\u001b[0m\u001b[1;33m(\u001b[0m\u001b[1;34m\"%s/dogs\"\u001b[0m \u001b[1;33m%\u001b[0m \u001b[0mvalid_dir\u001b[0m\u001b[1;33m)\u001b[0m  \u001b[1;31m# valid_dir内にdogsフォルダーを作成\u001b[0m\u001b[1;33m\u001b[0m\u001b[0m\n",
      "\u001b[1;32m~\\Anaconda3\\envs\\tfl\\lib\\os.py\u001b[0m in \u001b[0;36mmakedirs\u001b[1;34m(name, mode, exist_ok)\u001b[0m\n\u001b[0;32m    239\u001b[0m             \u001b[1;32mreturn\u001b[0m\u001b[1;33m\u001b[0m\u001b[0m\n\u001b[0;32m    240\u001b[0m     \u001b[1;32mtry\u001b[0m\u001b[1;33m:\u001b[0m\u001b[1;33m\u001b[0m\u001b[0m\n\u001b[1;32m--> 241\u001b[1;33m         \u001b[0mmkdir\u001b[0m\u001b[1;33m(\u001b[0m\u001b[0mname\u001b[0m\u001b[1;33m,\u001b[0m \u001b[0mmode\u001b[0m\u001b[1;33m)\u001b[0m\u001b[1;33m\u001b[0m\u001b[0m\n\u001b[0m\u001b[0;32m    242\u001b[0m     \u001b[1;32mexcept\u001b[0m \u001b[0mOSError\u001b[0m\u001b[1;33m:\u001b[0m\u001b[1;33m\u001b[0m\u001b[0m\n\u001b[0;32m    243\u001b[0m         \u001b[1;31m# Cannot rely on checking for EEXIST, since the operating system\u001b[0m\u001b[1;33m\u001b[0m\u001b[1;33m\u001b[0m\u001b[0m\n",
      "\u001b[1;31mFileExistsError\u001b[0m: [WinError 183] 既に存在するファイルを作成することはできません。: './data/train/dogs'"
     ]
    }
   ],
   "source": [
    "import os\n",
    "\n",
    "os.getcwd() \n",
    "\"\"\"\n",
    "train.zipを解凍し、内部のtrainをNotebookと同じフォルダーにコピーし、\n",
    "訓練データとテストデータに振り分ける以下のコードを実行\n",
    "\"\"\"\n",
    "num_train = 1000                    # 訓練データに使用するdog,catの各枚数\n",
    "num_validation = 400                # テストデータに使用するdog,catの各枚数\n",
    "\n",
    "source_dir = \"./train\"              # 元画像のtrainフォルダーの場所\n",
    "train_dir = \"./data/train\"          # 訓練データの保存先\n",
    "valid_dir = \"./data/validation\"     # テストデータの保存先\n",
    "\n",
    "os.makedirs(\"%s/dogs\" % train_dir)  # train_dir内にdogsフォルダーを作成\n",
    "os.makedirs(\"%s/cats\" % train_dir)  # train_dir内にcatsフォルダーを作成\n",
    "os.makedirs(\"%s/dogs\" % valid_dir)  # valid_dir内にdogsフォルダーを作成\n",
    "os.makedirs(\"%s/cats\" % valid_dir)  # valid_dir内にcatsフォルダーを作成\n",
    "\n",
    "# 訓練データの用意 #\n",
    "# cat,dogの画像1000枚をtrain_dirのdogs,catsに移動\n",
    "for i in range(num_train):\n",
    "    #「cat.0.jpg～cat.999.jpg」を\n",
    "    #「cat.0001.jpg～cat.1000.jpg」にリネームして移動\n",
    "    os.rename(\"%s/cat.%d.jpg\" % (source_dir, i),\n",
    "              \"%s/cats/cat%04d.jpg\" % (train_dir, i + 1))\n",
    "    #「dog.0.jpg～dog.999.jpg」を\n",
    "    #「dog.0001.jpg～dog.2000.jpg」にリネームして移動\n",
    "    os.rename(\"%s/dog.%d.jpg\" % (source_dir, i),\n",
    "              \"%s/dogs/dog%04d.jpg\" % (train_dir, i + 1))\n",
    "\n",
    "# テストデータの用意 #\n",
    "# dog,catの画像の1001枚目以降の400枚をvalid_dirのdogs,catsに移動\n",
    "for i in range(num_validation):\n",
    "    #「cat.1000.jpg～cat.1399.jpg」を\n",
    "    #「cat.0001.jpg～cat.0400.jpg」にリネームして移動\n",
    "    os.rename(\"%s/cat.%d.jpg\" % (source_dir, num_train + i),\n",
    "              \"%s/cats/cat%04d.jpg\" % (valid_dir, i + 1))\n",
    "    #「dog.1000.jpg～dog.1399.jpg」を\n",
    "    #「dog.0001.jpg～dog.0400.jpg」にリネームして移動\n",
    "    os.rename(\"%s/dog.%d.jpg\" % (source_dir, num_train + i),\n",
    "              \"%s/dogs/dog%04d.jpg\" % (valid_dir, i + 1))"
   ]
  },
  {
   "cell_type": "code",
   "execution_count": 2,
   "metadata": {},
   "outputs": [
    {
     "data": {
      "text/plain": [
       "6"
      ]
     },
     "execution_count": 2,
     "metadata": {},
     "output_type": "execute_result"
    }
   ],
   "source": [
    "3+3"
   ]
  },
  {
   "cell_type": "code",
   "execution_count": 5,
   "metadata": {},
   "outputs": [
    {
     "data": {
      "text/plain": [
       "'C:\\\\Users\\\\kohsuke maeda\\\\dogs_vs_cat'"
      ]
     },
     "execution_count": 5,
     "metadata": {},
     "output_type": "execute_result"
    }
   ],
   "source": [
    "import os\n",
    "\n",
    "os.getcwd()"
   ]
  }
 ],
 "metadata": {
  "kernelspec": {
   "display_name": "Python 3",
   "language": "python",
   "name": "python3"
  },
  "language_info": {
   "codemirror_mode": {
    "name": "ipython",
    "version": 3
   },
   "file_extension": ".py",
   "mimetype": "text/x-python",
   "name": "python",
   "nbconvert_exporter": "python",
   "pygments_lexer": "ipython3",
   "version": "3.6.10"
  }
 },
 "nbformat": 4,
 "nbformat_minor": 2
}
